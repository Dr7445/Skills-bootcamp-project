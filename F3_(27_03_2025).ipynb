{
  "nbformat": 4,
  "nbformat_minor": 0,
  "metadata": {
    "colab": {
      "provenance": [],
      "authorship_tag": "ABX9TyPThMEsrM8MrVPjFDLDHwrQ",
      "include_colab_link": true
    },
    "kernelspec": {
      "name": "python3",
      "display_name": "Python 3"
    },
    "language_info": {
      "name": "python"
    }
  },
  "cells": [
    {
      "cell_type": "markdown",
      "metadata": {
        "id": "view-in-github",
        "colab_type": "text"
      },
      "source": [
        "<a href=\"https://colab.research.google.com/github/Dr7445/Skills-bootcamp-project/blob/main/F3_(27_03_2025).ipynb\" target=\"_parent\"><img src=\"https://colab.research.google.com/assets/colab-badge.svg\" alt=\"Open In Colab\"/></a>"
      ]
    },
    {
      "cell_type": "code",
      "execution_count": 1,
      "metadata": {
        "colab": {
          "base_uri": "https://localhost:8080/"
        },
        "id": "1qgD95KAn2Dz",
        "outputId": "4a8dccda-8636-4d36-c178-b99a171a6ba7"
      },
      "outputs": [
        {
          "output_type": "stream",
          "name": "stdout",
          "text": [
            "Hello world!\n"
          ]
        }
      ],
      "source": [
        "print('Hello world!')"
      ]
    },
    {
      "cell_type": "markdown",
      "source": [
        "Loan calculator"
      ],
      "metadata": {
        "id": "YqS00yBCoPjK"
      }
    },
    {
      "cell_type": "code",
      "source": [
        "# Calculate the amount owed on a loan\n",
        "\n",
        "loan_amount = 2500\n",
        "interest_rate = 8/100\n",
        "duration = 2\n",
        "\n",
        "#calculate the interest owed\n",
        "\n",
        "total_interest = loan_amount * interest_rate * duration\n",
        "\n",
        "print('The interest is ' + str(total_interest))\n",
        "\n",
        "# calculate the total to be repaid\n",
        "\n",
        "total_owed = total_interest + loan_amount\n",
        "\n",
        "print('total_owed is  ' + str(total_owed))"
      ],
      "metadata": {
        "colab": {
          "base_uri": "https://localhost:8080/"
        },
        "id": "dC7Y_84cn8iH",
        "outputId": "8595613b-ac03-48a6-a3f7-40da8080d847"
      },
      "execution_count": 21,
      "outputs": [
        {
          "output_type": "stream",
          "name": "stdout",
          "text": [
            "The interest is 400.0\n",
            "total_owed is  2900.0\n"
          ]
        }
      ]
    },
    {
      "cell_type": "code",
      "source": [
        "# Calculate the amount owed on a loan\n",
        "# Interactive loan calculator\n",
        "\n",
        "loan_amount = int(input('What is the loan amount? '))\n",
        "interest_rate = int(input('Enter the interest rate: '))\n",
        "duration = int(input('How long is the loan for '))\n",
        "\n",
        "#calculate the interest owed\n",
        "\n",
        "total_interest = loan_amount * interest_rate * duration\n",
        "\n",
        "print('The interest is ' + str(total_interest))\n",
        "\n",
        "# calculate the total to be repaid\n",
        "\n",
        "total_owed = total_interest + loan_amount\n",
        "\n",
        "print('total_owed is  ' + str(total_owed))"
      ],
      "metadata": {
        "colab": {
          "base_uri": "https://localhost:8080/"
        },
        "id": "zcOolmGBn8lA",
        "outputId": "1c4cba82-8c5b-40e4-8ca2-b430d6e2e800"
      },
      "execution_count": 30,
      "outputs": [
        {
          "output_type": "stream",
          "name": "stdout",
          "text": [
            "What is the loan amount? 10\n",
            "Enter the interest rate: 5\n",
            "How long is the loan for 5\n",
            "The interest is 250\n",
            "total_owed is  260\n"
          ]
        }
      ]
    },
    {
      "cell_type": "code",
      "source": [
        "loan_amount = input('what')"
      ],
      "metadata": {
        "id": "_XGI-3EBn8ng"
      },
      "execution_count": null,
      "outputs": []
    },
    {
      "cell_type": "code",
      "source": [],
      "metadata": {
        "id": "aO92YyXGyFor"
      },
      "execution_count": null,
      "outputs": []
    },
    {
      "cell_type": "markdown",
      "source": [
        "Errors"
      ],
      "metadata": {
        "id": "2jtNqEYSyGS0"
      }
    },
    {
      "cell_type": "code",
      "source": [
        "# name - usually means there is avariable typed incorrectly\n",
        "# type - usually means you are trying to join different data types\n",
        "# syntax - broken the rules of the language\n",
        "# logic - program runs, but gives incorrect result"
      ],
      "metadata": {
        "id": "LFDcPg0jn8rr"
      },
      "execution_count": null,
      "outputs": []
    },
    {
      "cell_type": "markdown",
      "source": [
        "Variables"
      ],
      "metadata": {
        "id": "5DbUsTT53P6P"
      }
    },
    {
      "cell_type": "code",
      "source": [
        "# variable rules\n",
        "\n",
        "# must start with a letter or underscore (_)\n",
        "# only contain alpha-numeric characters (0-9,a-z,A-Z,_)\n",
        "# cannot start with a number\n",
        "# are case sensitive\n",
        "# no spaces\n",
        "# no keywords (eq. print, input, if, else, for, while ect)\n",
        "# declare using single r double qutes do not mix\n",
        "# myName = camelcase, myname = pascalcase, my_name = snake_case\n"
      ],
      "metadata": {
        "id": "1QZ1xy943SfS"
      },
      "execution_count": 31,
      "outputs": []
    },
    {
      "cell_type": "markdown",
      "source": [
        "Strings"
      ],
      "metadata": {
        "id": "3MJOYnPD4ZeF"
      }
    },
    {
      "cell_type": "code",
      "source": [
        "myString =  'This is my python programming class.'\n",
        "print(myString[11])"
      ],
      "metadata": {
        "colab": {
          "base_uri": "https://localhost:8080/"
        },
        "id": "rEA2JSCI4a8v",
        "outputId": "24ae14e5-54ce-420c-fd5f-58ae3d4b15c9"
      },
      "execution_count": 36,
      "outputs": [
        {
          "output_type": "stream",
          "name": "stdout",
          "text": [
            "p\n"
          ]
        }
      ]
    },
    {
      "cell_type": "code",
      "source": [
        "myString =  'This is my python programming class.'\n",
        "print(myString[11:17])\n",
        "print(myString[5:7])\n",
        "print(myString[30])\n",
        "print(myString[15])\n",
        "print(myString[15])\n",
        "print(myString[31])"
      ],
      "metadata": {
        "colab": {
          "base_uri": "https://localhost:8080/"
        },
        "id": "x5ZjZrGH60XX",
        "outputId": "aafae617-40cf-471e-8c3b-96a7ff93ff0b"
      },
      "execution_count": 49,
      "outputs": [
        {
          "output_type": "stream",
          "name": "stdout",
          "text": [
            "python\n",
            "is\n",
            "c\n",
            "o\n",
            "o\n",
            "l\n"
          ]
        }
      ]
    },
    {
      "cell_type": "code",
      "source": [
        "myString = 'This is a Data Analytics class.'\n",
        "print(myString.upper())\n",
        "print(myString.lower())\n",
        "print(myString.capitalize())"
      ],
      "metadata": {
        "colab": {
          "base_uri": "https://localhost:8080/"
        },
        "id": "f_vJhOyP72IQ",
        "outputId": "9a6df762-9464-4842-8295-73248d4405be"
      },
      "execution_count": 53,
      "outputs": [
        {
          "output_type": "stream",
          "name": "stdout",
          "text": [
            "THIS IS A DATA ANALYTICS CLASS.\n",
            "this is a data analytics class.\n",
            "This is a data analytics class.\n"
          ]
        }
      ]
    },
    {
      "cell_type": "code",
      "source": [
        "myString = 'Im looking forawrd to having a day off tomorrow, lol :P'\n",
        "print ('a' in myString)"
      ],
      "metadata": {
        "colab": {
          "base_uri": "https://localhost:8080/"
        },
        "id": "pb2JAJ0-82bz",
        "outputId": "a7d1544e-7f68-41cf-c3ab-eddcf7c0100c"
      },
      "execution_count": 55,
      "outputs": [
        {
          "output_type": "stream",
          "name": "stdout",
          "text": [
            "True\n"
          ]
        }
      ]
    },
    {
      "cell_type": "markdown",
      "source": [
        "Lists"
      ],
      "metadata": {
        "id": "iY4cI3bI-I-h"
      }
    },
    {
      "cell_type": "code",
      "source": [
        "# empty list\n",
        "myList = []\n",
        "mylist2 = ['Dean', 'Georgina']\n",
        "#print(myList2)"
      ],
      "metadata": {
        "colab": {
          "base_uri": "https://localhost:8080/"
        },
        "id": "WyGkqL4G-LCE",
        "outputId": "dfe0f06f-d062-4b84-cc6a-c045a883dded"
      },
      "execution_count": 58,
      "outputs": [
        {
          "output_type": "stream",
          "name": "stdout",
          "text": [
            "['Dean', 'Georgina']\n"
          ]
        }
      ]
    },
    {
      "cell_type": "code",
      "source": [
        "# creating a list of fruits\n",
        "\n",
        "myfruits = ['Kiwi', 'Banana', 'Pear', 8,32,False]\n",
        "print(myfruits)\n",
        "print(len(myfruits))\n",
        "\n",
        "#removing items\n",
        "myfruits.remove(False)\n",
        "myfruits.remove(8)\n",
        "myfruits.remove(32)\n",
        "\n",
        "print(myfruits)\n",
        "print(len(myfruits))\n",
        "\n",
        "# appending items\n",
        "myfruits.append('Apple')\n",
        "myfruits.append('orange')\n",
        "myfruits.append('grapes')\n",
        "myfruits.append('strawberry')\n",
        "myfruits.append('lemons')\n",
        "\n",
        "print(myfruits)\n",
        "print(len(myfruits))\n",
        "\n",
        "#sorting the list\n",
        "myfruits.sort(reverse = True)\n",
        "print(myfruits)"
      ],
      "metadata": {
        "colab": {
          "base_uri": "https://localhost:8080/"
        },
        "id": "1M9J-mn7_TJn",
        "outputId": "2d6da6c5-c2d7-4a4e-ac96-7b296b0bbd00"
      },
      "execution_count": 70,
      "outputs": [
        {
          "output_type": "stream",
          "name": "stdout",
          "text": [
            "['Kiwi', 'Banana', 'Pear', 8, 32, False]\n",
            "6\n",
            "['Kiwi', 'Banana', 'Pear']\n",
            "3\n",
            "['Kiwi', 'Banana', 'Pear', 'Apple', 'orange', 'grapes', 'strawberry', 'lemons']\n",
            "8\n",
            "['strawberry', 'orange', 'lemons', 'grapes', 'Pear', 'Kiwi', 'Banana', 'Apple']\n"
          ]
        }
      ]
    },
    {
      "cell_type": "code",
      "source": [
        "# Arithmetic operators\n",
        "\n",
        "#basic arithmetic operators\n",
        "5 + 6 #addition\n",
        "4 - 8 #subtraction\n",
        "4 * 4 #mulplication\n",
        "3 / 4 #division\n",
        "\n"
      ],
      "metadata": {
        "id": "SvnhJJZbEHqq"
      },
      "execution_count": null,
      "outputs": []
    },
    {
      "cell_type": "code",
      "source": [
        "#modulas: returns the remainder only\n",
        "\n",
        "print(30 % 3)"
      ],
      "metadata": {
        "colab": {
          "base_uri": "https://localhost:8080/"
        },
        "id": "PGjyrbJYFS_u",
        "outputId": "f6afbf84-6ac0-4933-e7d1-a19c0848936a"
      },
      "execution_count": 71,
      "outputs": [
        {
          "output_type": "stream",
          "name": "stdout",
          "text": [
            "0\n"
          ]
        }
      ]
    },
    {
      "cell_type": "code",
      "source": [
        "#exponential: to the power of\n",
        "\n",
        "print(6 ** 10)"
      ],
      "metadata": {
        "colab": {
          "base_uri": "https://localhost:8080/"
        },
        "id": "bnsOwc0sF0vI",
        "outputId": "e399f479-4070-477a-fd3d-9e9e8d02abe5"
      },
      "execution_count": 72,
      "outputs": [
        {
          "output_type": "stream",
          "name": "stdout",
          "text": [
            "60466176\n"
          ]
        }
      ]
    },
    {
      "cell_type": "code",
      "source": [
        "# floor divison: ignores the remainder\n",
        "print(643 // 7)"
      ],
      "metadata": {
        "colab": {
          "base_uri": "https://localhost:8080/"
        },
        "id": "JJDdBhK4GI9o",
        "outputId": "1ad95183-d5c8-4e31-ad50-4d89144ac280"
      },
      "execution_count": 73,
      "outputs": [
        {
          "output_type": "stream",
          "name": "stdout",
          "text": [
            "91\n"
          ]
        }
      ]
    },
    {
      "cell_type": "code",
      "source": [
        "#"
      ],
      "metadata": {
        "id": "j1784gILHBvQ"
      },
      "execution_count": null,
      "outputs": []
    }
  ]
}