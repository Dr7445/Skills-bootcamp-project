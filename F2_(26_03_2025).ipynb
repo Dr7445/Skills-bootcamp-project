{
  "nbformat": 4,
  "nbformat_minor": 0,
  "metadata": {
    "colab": {
      "provenance": [],
      "authorship_tag": "ABX9TyMeQkQFvNw57E95mkomCeF4",
      "include_colab_link": true
    },
    "kernelspec": {
      "name": "python3",
      "display_name": "Python 3"
    },
    "language_info": {
      "name": "python"
    }
  },
  "cells": [
    {
      "cell_type": "markdown",
      "metadata": {
        "id": "view-in-github",
        "colab_type": "text"
      },
      "source": [
        "<a href=\"https://colab.research.google.com/github/Dr7445/Skills-bootcamp-project/blob/main/F2_(26_03_2025).ipynb\" target=\"_parent\"><img src=\"https://colab.research.google.com/assets/colab-badge.svg\" alt=\"Open In Colab\"/></a>"
      ]
    },
    {
      "cell_type": "code",
      "execution_count": null,
      "metadata": {
        "colab": {
          "base_uri": "https://localhost:8080/"
        },
        "id": "f_g4UyYceTMB",
        "outputId": "36a4187d-191e-4abc-fe1e-79ca23ac088d"
      },
      "outputs": [
        {
          "output_type": "stream",
          "name": "stdout",
          "text": [
            "Dean\n"
          ]
        }
      ],
      "source": [
        "print('Dean')"
      ]
    },
    {
      "cell_type": "markdown",
      "source": [
        "The Basics"
      ],
      "metadata": {
        "id": "0rUCIyH-fmir"
      }
    },
    {
      "cell_type": "code",
      "source": [
        "#Variables: A container that can hold one value\n",
        "day= 'wednesday'\n",
        "print(day)\n",
        "day = 'thursday'\n",
        "print (day)"
      ],
      "metadata": {
        "colab": {
          "base_uri": "https://localhost:8080/"
        },
        "id": "jVdvSkSufqYY",
        "outputId": "a07cd1c0-a4ae-42f9-e547-520a21eaa170"
      },
      "execution_count": null,
      "outputs": [
        {
          "output_type": "stream",
          "name": "stdout",
          "text": [
            "wednesday\n",
            "thursday\n"
          ]
        }
      ]
    },
    {
      "cell_type": "code",
      "source": [
        "#calculation\n",
        "num1 = 77\n",
        "num2 = 55\n",
        "\n",
        "answer = num1 * num2 #arithmetic symbols +,-,*,/\n",
        "print(answer)"
      ],
      "metadata": {
        "colab": {
          "base_uri": "https://localhost:8080/"
        },
        "id": "cZSbB2Y8froE",
        "outputId": "5757f41b-44ef-4bb3-d120-218811b97924"
      },
      "execution_count": null,
      "outputs": [
        {
          "output_type": "stream",
          "name": "stdout",
          "text": [
            "4235\n"
          ]
        }
      ]
    },
    {
      "cell_type": "code",
      "source": [
        "from os import name\n",
        "#Joining strings\n",
        "\n",
        "first_name = 'Dean'\n",
        "middle_name = 'Joseph'\n",
        "last_name = 'Robinson'\n",
        "\n",
        "print(first_name,last_name)\n",
        "print(first_name + ' ' + last_name)\n",
        "print(first_name,middle_name,last_name)\n",
        "print(f'{first_name} {middle_name} {last_name}') # f-strings"
      ],
      "metadata": {
        "colab": {
          "base_uri": "https://localhost:8080/"
        },
        "id": "3Bvpw0zThKYi",
        "outputId": "c2a18752-803d-4b8f-8020-f5dbe04e6c85"
      },
      "execution_count": null,
      "outputs": [
        {
          "output_type": "stream",
          "name": "stdout",
          "text": [
            "Dean Robinson\n",
            "Dean Robinson\n",
            "Dean Joseph Robinson\n",
            "Dean Joseph Robinson\n"
          ]
        }
      ]
    },
    {
      "cell_type": "code",
      "source": [
        "# create a program to work out the area of a rectangle\n",
        "height = 48\n",
        "length = 27\n",
        "\n",
        "#print(height*length)\n",
        "\n",
        "area = height * length\n",
        "print(area)"
      ],
      "metadata": {
        "id": "B1CJexEyfrq-"
      },
      "execution_count": null,
      "outputs": []
    },
    {
      "cell_type": "code",
      "source": [
        "from collections.abc import AsyncGenerator\n",
        "# outputting strings\n",
        "\n",
        "name = 'Dean'\n",
        "age = 40\n",
        "region = 'United Kingdom'\n",
        "course = 'Data analytics'\n",
        "\n",
        "print(name)\n",
        "print(age)\n",
        "print(region)\n",
        "print(course)"
      ],
      "metadata": {
        "collapsed": true,
        "id": "BNQYmEYCfrtl"
      },
      "execution_count": null,
      "outputs": []
    },
    {
      "cell_type": "code",
      "source": [
        "#Hello, my name is [name], my age is [age],\n",
        "# I am from [region] and the course I am studying is called [course].\n",
        "\n",
        "\n",
        "\n"
      ],
      "metadata": {
        "id": "e4SxqL96nbli"
      },
      "execution_count": null,
      "outputs": []
    },
    {
      "cell_type": "code",
      "source": [],
      "metadata": {
        "id": "fKPTJMcEz5BC"
      },
      "execution_count": null,
      "outputs": []
    },
    {
      "cell_type": "code",
      "source": [
        "# Strings\n",
        "\n",
        "name = 'Dean'\n",
        "age = '40'\n",
        "region = 'United Kingdon'\n",
        "Course = 'Data analytics'\n",
        "\n",
        "print(f'Hello, my name is {name}, my age is {age}, I am from the  {region} and the course I am on is called {course}.')"
      ],
      "metadata": {
        "id": "q6cU24iipfdj"
      },
      "execution_count": null,
      "outputs": []
    },
    {
      "cell_type": "code",
      "source": [
        "# Joining example\n",
        "\n",
        "name = 'Dean'\n",
        "age = 40 #integer\n",
        "\n",
        "print('My name is ' + name + 'and my age is ' + str(age) + '.')"
      ],
      "metadata": {
        "id": "Ln6qcQRJrYCr"
      },
      "execution_count": null,
      "outputs": []
    },
    {
      "cell_type": "code",
      "source": [
        "# Data types\n",
        "\n",
        "name = 'Dean'\n",
        "age = 40\n",
        "height = 1.86\n",
        "course = 'Data'\n",
        "mylist = [11,'Joanne',1.56]\n",
        "\n",
        "print(type(name)) #string (text/sentance)\n",
        "print(type(age)) #integer (whole number)\n",
        "print(type(height)) #float (floating point) decimal\n",
        "print(type(course)) #boolean (true/false)\n",
        "print(type(mylist)) #list (variable that can contain multiple values)"
      ],
      "metadata": {
        "id": "h8_923e3z6cM"
      },
      "execution_count": null,
      "outputs": []
    },
    {
      "cell_type": "code",
      "source": [
        "# forcing data types\n",
        "\n",
        "value1 = str(8)\n",
        "value2 = int(8)\n",
        "value3 = float(8)\n",
        "\n",
        "print(value1)\n",
        "print(value2)\n",
        "print(value3)\n",
        "\n",
        "print(type(value1))\n",
        "print(type(value2))\n",
        "print(type(value3))"
      ],
      "metadata": {
        "colab": {
          "base_uri": "https://localhost:8080/"
        },
        "id": "x-wN9J_L1_7h",
        "outputId": "6110d3f4-f38e-4a18-ef18-abcf8c8af409"
      },
      "execution_count": null,
      "outputs": [
        {
          "output_type": "stream",
          "name": "stdout",
          "text": [
            "8\n",
            "8\n",
            "8.0\n",
            "<class 'str'>\n",
            "<class 'int'>\n",
            "<class 'float'>\n"
          ]
        }
      ]
    },
    {
      "cell_type": "code",
      "source": [
        "# user input\n",
        "\n",
        "name = input('what is your name? ')\n",
        "age = input('what is your age ')\n",
        "print('The name that you entered is ' + name + ' and the age you entered is ' + age + '.')"
      ],
      "metadata": {
        "colab": {
          "base_uri": "https://localhost:8080/"
        },
        "id": "Nzk3DaV04Kms",
        "outputId": "ea710fbb-ef0b-499e-fcab-9736d9992ea8"
      },
      "execution_count": null,
      "outputs": [
        {
          "output_type": "stream",
          "name": "stdout",
          "text": [
            "what is your name? dean\n",
            "what is your age 40\n",
            "The name that you entered is dean and the age you entered is 40.\n"
          ]
        }
      ]
    },
    {
      "cell_type": "code",
      "source": [],
      "metadata": {
        "colab": {
          "base_uri": "https://localhost:8080/"
        },
        "id": "3NJZxoy08Imv",
        "outputId": "98f030b3-5b6f-401a-d44d-542c6efa3159"
      },
      "execution_count": null,
      "outputs": [
        {
          "output_type": "stream",
          "name": "stdout",
          "text": [
            "what is the height 5\n",
            "what is the length 5\n",
            "the area is 25\n"
          ]
        }
      ]
    },
    {
      "cell_type": "code",
      "source": [
        "# create a program to work out the area of a rectangle\n",
        "height = int(input('what is the height '))\n",
        "length = int(input('what is the length '))\n",
        "\n",
        "#print(height*length)\n",
        "\n",
        "area = height * length\n",
        "print('the area is ' + str(area))"
      ],
      "metadata": {
        "id": "Xm5mAexY5x1L",
        "colab": {
          "base_uri": "https://localhost:8080/"
        },
        "outputId": "a4e893cc-754c-40d1-d404-3fb90e0e908c"
      },
      "execution_count": 6,
      "outputs": [
        {
          "output_type": "stream",
          "name": "stdout",
          "text": [
            "what is the height 10\n",
            "what is the length 5\n",
            "the area is 50\n"
          ]
        }
      ]
    },
    {
      "cell_type": "code",
      "source": [
        "# Create a matrix style hacked computer message\n",
        "\n",
        "name = input('Hello.....what is your name? ')\n",
        "\n",
        "\n",
        "print('Hello, ' + name)\n",
        "reply = input('')\n",
        "print('I am morpheus, welcome to the matrix, ' + name + '.')\n",
        "reply = input('')\n",
        "print('The red pill takes you down the rabbit hole, the blue pill takes you back to sleep what will you chose ' + name + '?')\n",
        "reply = input('')\n",
        "print('welcome to the matrix ' + name + '!')"
      ],
      "metadata": {
        "colab": {
          "base_uri": "https://localhost:8080/"
        },
        "id": "_UrAIluF7EsC",
        "outputId": "632616a7-9433-48d7-cc48-4ec74613c788"
      },
      "execution_count": 8,
      "outputs": [
        {
          "output_type": "stream",
          "name": "stdout",
          "text": [
            "Hello.....what is your name? Dean\n",
            "Hello, Dean\n",
            "who is this?\n",
            "I am morpheus, welcome to the matrix, Dean.\n",
            "what do you want?\n",
            "The red pill takes you down the rabbit hole, the blue pill takes you back to sleep what will you chose Dean?\n",
            "the red pill!\n",
            "welcome to the matrix Dean!\n"
          ]
        }
      ]
    },
    {
      "cell_type": "code",
      "source": [],
      "metadata": {
        "id": "I71Hfr6f8i8p"
      },
      "execution_count": null,
      "outputs": []
    }
  ]
}